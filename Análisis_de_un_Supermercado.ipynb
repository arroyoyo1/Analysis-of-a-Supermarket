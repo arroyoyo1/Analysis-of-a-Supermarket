{
  "nbformat": 4,
  "nbformat_minor": 0,
  "metadata": {
    "colab": {
      "provenance": [],
      "authorship_tag": "ABX9TyO0SH5pwA4DsP16WV3dYSZF",
      "include_colab_link": true
    },
    "kernelspec": {
      "name": "python3",
      "display_name": "Python 3"
    },
    "language_info": {
      "name": "python"
    }
  },
  "cells": [
    {
      "cell_type": "markdown",
      "metadata": {
        "id": "view-in-github",
        "colab_type": "text"
      },
      "source": [
        "<a href=\"https://colab.research.google.com/github/arroyoyo1/Analysis-of-a-Supermarket/blob/main/An%C3%A1lisis_de_un_Supermercado.ipynb\" target=\"_parent\"><img src=\"https://colab.research.google.com/assets/colab-badge.svg\" alt=\"Open In Colab\"/></a>"
      ]
    },
    {
      "cell_type": "markdown",
      "source": [
        "# Supermarket Financial Analysis\n",
        "This notebook presents a financial analysis of the supermarket, considering the estimated sales needed to cover operating expenses, including payroll, electricity and water. It also adjusts for electricity expenses because the supermarket operates 24 hours a day.\n"
      ],
      "metadata": {
        "id": "J5x7HjPrDJRo"
      }
    },
    {
      "cell_type": "code",
      "execution_count": 1,
      "metadata": {
        "id": "53BjfVxWaM5O"
      },
      "outputs": [],
      "source": [
        "import pandas as pd\n",
        "import numpy as np\n",
        "import matplotlib.pyplot as plt\n",
        "from scipy.stats import beta, norm, zscore\n",
        "\n",
        "# Load the CSV file\n",
        "df = pd.read_csv(\"SuperMarketData.csv\")"
      ]
    },
    {
      "cell_type": "markdown",
      "source": [
        "## Sales analysis\n",
        "Sales are first normalized to fit the data to a beta distribution and then the relevant statistics are calculated."
      ],
      "metadata": {
        "id": "LtAe08cBEUg5"
      }
    },
    {
      "cell_type": "code",
      "source": [
        "# Multiply sales by 19.88 to convert to MXN and normalize\n",
        "sales = np.array(df[\"Sales\"]) * 19.88\n",
        "max_sales, min_sales = sales.max(), sales.min()\n",
        "sales_norm = (sales - min_sales) / (max_sales - min_sales)\n",
        "\n",
        "# Fit sales data to a beta distribution\n",
        "a, b, _, _ = beta.fit(sales)\n",
        "print(f\"Alpha and Beta: {a:.4f}, {b:.4f}\")\n",
        "\n",
        "# Calculate normalized mean, variance, and standard deviation\n",
        "mu_xnorm = a / (a + b)\n",
        "var_xnorm = a * b / ((a + b)**2 * (a + b + 1))\n",
        "sigma_xnorm = np.sqrt(var_xnorm)\n",
        "print(f\"Normalized mean, variance, and standard deviation: {mu_xnorm:.4f}, {var_xnorm:.4f}, {sigma_xnorm:.4f}\")\n",
        "\n",
        "# Transform back to the original sales values\n",
        "mu = mu_xnorm * (max_sales - min_sales) + min_sales\n",
        "var = var_xnorm * (max_sales - min_sales) ** 2\n",
        "sigma = np.sqrt(var)\n",
        "print(f\"Sales mean, variance, and standard deviation: {mu:.4f}, {var:.4f}, {sigma:.4f}\")"
      ],
      "metadata": {
        "id": "vISe4MyCEjC-",
        "colab": {
          "base_uri": "https://localhost:8080/"
        },
        "outputId": "a8161336-aeb8-471f-e006-ffb70e5c8b9f"
      },
      "execution_count": 2,
      "outputs": [
        {
          "output_type": "stream",
          "name": "stdout",
          "text": [
            "Alpha and Beta: 1.0343, 2.9124\n",
            "Normalized mean, variance, and standard deviation: 0.2621, 0.0391, 0.1977\n",
            "Sales mean, variance, and standard deviation: 5588.8462, 16454341.4852, 4056.3951\n"
          ]
        }
      ]
    },
    {
      "cell_type": "markdown",
      "source": [
        "## Calculation of Operating Expenses\n",
        "Payroll calculations, electricity costs considering 24-hour operation, and water costs are included."
      ],
      "metadata": {
        "id": "42A9rxt2Eyj2"
      }
    },
    {
      "cell_type": "code",
      "source": [
        "# Calculate operational expenses\n",
        "operating_days = 24\n",
        "factor = 1.15  # 15% increase factor\n",
        "\n",
        "# Define salaries and number of employees per role\n",
        "expenses_by_role = {\n",
        "    \"cashiers\": {\"salary\": 258.25, \"num_employees\": 30, \"days\": operating_days, \"adjust\": True},\n",
        "    \"janitors\": {\"salary\": 5000, \"num_employees\": 20, \"days\": 1, \"adjust\": True},\n",
        "    \"manager\": {\"salary\": 100000, \"num_employees\": 1, \"days\": 1, \"adjust\": False},\n",
        "    \"assistant_managers\": {\"salary\": 45000, \"num_employees\": 4, \"days\": 1, \"adjust\": False},\n",
        "    \"warehouse_staff\": {\"salary\": 262.13, \"num_employees\": 40, \"days\": operating_days, \"adjust\": True},\n",
        "    \"aisle_staff\": {\"salary\": 264.65, \"num_employees\": 40, \"days\": operating_days, \"adjust\": True}\n",
        "}\n",
        "\n",
        "# Calculate total payroll with a 15% adjustment where applicable\n",
        "total_payroll = sum(\n",
        "    data[\"salary\"] * data[\"num_employees\"] * data[\"days\"] * (factor if data[\"adjust\"] else 1)\n",
        "    for data in expenses_by_role.values()\n",
        ")\n",
        "print(f\"Payroll expenses: {total_payroll:.2f}\")\n",
        "\n",
        "# Electricity expenses (assuming the supermarket operates 24 hours a day for refrigeration)\n",
        "electricity_expenses = 120 * 2000 * 12 * 2.3 * 30  # 24/7 operation\n",
        "print(f\"Electricity expenses: {electricity_expenses:.2f}\")\n",
        "\n",
        "# Water expenses\n",
        "water_expenses = 2000 * 30 * 19.88  # Assuming $2,000 per month\n",
        "print(f\"Water expenses: {water_expenses:.2f}\")\n",
        "\n",
        "# Total operating expenses\n",
        "operating_expenses = total_payroll + electricity_expenses + water_expenses\n",
        "print(f\"Total operating expenses: {operating_expenses:.2f}\")"
      ],
      "metadata": {
        "id": "j6dpUNzJE0qo",
        "colab": {
          "base_uri": "https://localhost:8080/"
        },
        "outputId": "00236612-52c5-416c-f063-310622ed82ab"
      },
      "execution_count": 18,
      "outputs": [
        {
          "output_type": "stream",
          "name": "stdout",
          "text": [
            "Payroll expenses: 1190396.12\n",
            "Electricity expenses: 198720000.00\n",
            "Water expenses: 1192800.00\n",
            "Total operating expenses: 201103196.12\n"
          ]
        }
      ]
    },
    {
      "cell_type": "markdown",
      "source": [
        "## Estimating the Number of Sales\n",
        "Using the statistics calculated above, we estimate how many sales are needed to cover operating expenses and still earn 1.5 million pesos, and calculate the percentage of the population we should retain as customers."
      ],
      "metadata": {
        "id": "TRwlOnIvE7aW"
      }
    },
    {
      "cell_type": "code",
      "source": [
        "# Income and population estimation\n",
        "income = operating_expenses + 1500000\n",
        "omega = norm.ppf(0.01)\n",
        "\n",
        "# Coefficients for quadratic equation\n",
        "a_ = mu ** 2\n",
        "b_ = -2 * mu * income - omega ** 2 * sigma ** 2\n",
        "c_ = income ** 2\n",
        "\n",
        "# Solve quadratic equation for N1 and N2\n",
        "N1 = (-b_ + np.sqrt(b_ ** 2 - 4 * a_ * c_)) / (2 * a_)\n",
        "N2 = (-b_ - np.sqrt(b_ ** 2 - 4 * a_ * c_)) / (2 * a_)\n",
        "\n",
        "# Select the correct solution\n",
        "N = N1 if (income / N1 - mu) > 0 else N2\n",
        "print(f\"Solution N (Number of necessary sales): {N:.2f}\")\n",
        "\n",
        "# Percentage of the population\n",
        "pop_percentage = N / 160000000\n",
        "print(f\"Percentage of the population: {pop_percentage:.4f}\")"
      ],
      "metadata": {
        "id": "2R00wiB1FRxP",
        "colab": {
          "base_uri": "https://localhost:8080/"
        },
        "outputId": "47e702fb-6b8c-4959-c3dd-8d6f16fb6796"
      },
      "execution_count": 20,
      "outputs": [
        {
          "output_type": "stream",
          "name": "stdout",
          "text": [
            "Solution N (Number of necessary sales): 29053543.97\n",
            "Percentage of the population: 0.1816\n"
          ]
        }
      ]
    },
    {
      "cell_type": "markdown",
      "source": [
        "## Distribution of Ratings\n",
        "A histogram representing the distribution of supermarket customer ratings is displayed."
      ],
      "metadata": {
        "id": "2w8EGA5VFSeo"
      }
    },
    {
      "cell_type": "code",
      "source": [
        "import seaborn as sns\n",
        "\n",
        "plt.figure(figsize=(8, 6))\n",
        "sns.histplot(df['Rating'], bins=10)\n",
        "plt.title('Distribution of Ratings')\n",
        "plt.xlabel('Ratings')\n",
        "plt.ylabel('Frequency')\n",
        "plt.show()"
      ],
      "metadata": {
        "id": "e47P8tunFbvn",
        "colab": {
          "base_uri": "https://localhost:8080/",
          "height": 564
        },
        "outputId": "cefbe744-e5c4-402e-97d2-9411410a5ac3"
      },
      "execution_count": 21,
      "outputs": [
        {
          "output_type": "display_data",
          "data": {
            "text/plain": [
              "<Figure size 800x600 with 1 Axes>"
            ],
            "image/png": "[encoded data removed]"
          },
          "metadata": {}
        }
      ]
    }
  ]
}