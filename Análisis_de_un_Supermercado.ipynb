{
  "nbformat": 4,
  "nbformat_minor": 0,
  "metadata": {
    "colab": {
      "provenance": [],
      "authorship_tag": "ABX9TyNCB4JONJ9+Pxivh6GGoqea",
      "include_colab_link": true
    },
    "kernelspec": {
      "name": "python3",
      "display_name": "Python 3"
    },
    "language_info": {
      "name": "python"
    }
  },
  "cells": [
    {
      "cell_type": "markdown",
      "metadata": {
        "id": "view-in-github",
        "colab_type": "text"
      },
      "source": [
        "<a href=\"https://colab.research.google.com/github/arroyoyo1/Analysis-of-a-Supermarket/blob/main/An%C3%A1lisis_de_un_Supermercado.ipynb\" target=\"_parent\"><img src=\"https://colab.research.google.com/assets/colab-badge.svg\" alt=\"Open In Colab\"/></a>"
      ]
    },
    {
      "cell_type": "markdown",
      "source": [
        "# Supermarket Financial Analysis\n",
        "This notebook presents a financial analysis of the supermarket, considering the estimated sales needed to cover operating expenses, including payroll, electricity and water. It also adjusts for electricity expenses because the supermarket operates 24 hours a day.\n"
      ],
      "metadata": {
        "id": "J5x7HjPrDJRo"
      }
    },
    {
      "cell_type": "code",
      "execution_count": 14,
      "metadata": {
        "id": "53BjfVxWaM5O",
        "colab": {
          "base_uri": "https://localhost:8080/"
        },
        "outputId": "fa8713e6-ed6a-4b8b-d4ac-6c851cb0dccd"
      },
      "outputs": [
        {
          "output_type": "stream",
          "name": "stdout",
          "text": [
            "      Sales  Rating\n",
            "0  548.9715     9.1\n",
            "1   80.2200     9.6\n",
            "2  340.5255     7.4\n",
            "3  489.0480     8.4\n",
            "4  634.3785     5.3\n"
          ]
        }
      ],
      "source": [
        "import pandas as pd\n",
        "import numpy as np\n",
        "import matplotlib.pyplot as plt\n",
        "from scipy.stats import beta\n",
        "from scipy.stats import norm\n",
        "\n",
        "df = pd.read_csv(\"SuperMarketData.csv\")\n",
        "print(df.head())"
      ]
    },
    {
      "cell_type": "markdown",
      "source": [
        "## Sales analysis\n",
        "Sales are first normalized to fit the data to a beta distribution and then the relevant statistics are calculated."
      ],
      "metadata": {
        "id": "LtAe08cBEUg5"
      }
    },
    {
      "cell_type": "code",
      "source": [
        "# Conversion from dollars to pesos\n",
        "sales = np.array(df[\"Sales\"]) * 19.88\n",
        "\n",
        "# Data normalization\n",
        "mx_sales = np.max(sales)\n",
        "mn_sales = np.min(sales)\n",
        "if (mx_sales != mn_sales):\n",
        "    sales_norm = 1 / (mx_sales - mn_sales) * (sales - mn_sales)\n",
        "\n",
        "# Fit a beta distribution model to the sales data\n",
        "a, b, _, _ = beta.fit(sales)\n",
        "\n",
        "# Calculate normalized mean and variance\n",
        "mu_norm = a / (a + b)\n",
        "var_norm = (a * b) / ((a + b)**2 * (a + b + 1))\n",
        "\n",
        "# Calculate denormalized mean and variance\n",
        "mu = (mx_sales - mn_sales) * mu_norm + mn_sales\n",
        "var = (mx_sales - mn_sales)**2 * var_norm"
      ],
      "metadata": {
        "id": "vISe4MyCEjC-"
      },
      "execution_count": 9,
      "outputs": []
    },
    {
      "cell_type": "markdown",
      "source": [
        "## Calculation of Operating Expenses\n",
        "Payroll calculations, electricity costs considering 24-hour operation, and water costs are included."
      ],
      "metadata": {
        "id": "42A9rxt2Eyj2"
      }
    },
    {
      "cell_type": "code",
      "source": [
        "# Monthly salaries: (daily rate) * number of employees\n",
        "days = 24\n",
        "factor = 1.15  # Additional factor for payroll\n",
        "cashiers = (258.25 * days) * 30\n",
        "cleaners = (5000) * 20\n",
        "general_manager = (1e5) * 1\n",
        "assistant_managers = (45000) * 4\n",
        "warehouse_staff = (262.13 * days) * 40\n",
        "aisle_staff = (264.65 * days) * 40\n",
        "total_payroll = factor * (cashiers + cleaners + warehouse_staff + aisle_staff) + general_manager + assistant_managers\n",
        "\n",
        "# Other monthly expenses\n",
        "monthly_electricity = 120 * 2000 * 12 * 2.3 * 30\n",
        "monthly_water = 169179.28 + 20301.51 + 16917.93 + 33023.79\n",
        "monthly_waste = 2708.82 * 4\n",
        "\n",
        "# Minimum income required to cover expenses\n",
        "income = 15e5 + total_payroll + monthly_electricity + monthly_water + monthly_waste"
      ],
      "metadata": {
        "id": "j6dpUNzJE0qo"
      },
      "execution_count": 10,
      "outputs": []
    },
    {
      "cell_type": "markdown",
      "source": [
        "## Estimating the Number of Sales\n",
        "Using the statistics calculated above, we estimate how many sales are needed to cover operating expenses and still earn 1.5 million pesos, and calculate the percentage of the population we should retain as customers. Clearly, it wouldn't be feasible since retaining almost half of the population of a community is almost impossible."
      ],
      "metadata": {
        "id": "TRwlOnIvE7aW"
      }
    },
    {
      "cell_type": "code",
      "source": [
        "# Calculate the number of customers needed to achieve this income with at least 99% confidence\n",
        "omega = norm.ppf(0.01)  # Z-value for a 99% confidence level\n",
        "a_ = mu**2\n",
        "b_ = -2 * mu * income - omega**2 * var\n",
        "c_ = income**2\n",
        "N1 = (-b_ + np.sqrt(b_**2 - 4 * a_ * c_)) / (2 * a_)\n",
        "N2 = (-b_ - np.sqrt(b_**2 - 4 * a_ * c_)) / (2 * a_)\n",
        "print(f\"Results: {N1}, {N2}\")\n",
        "\n",
        "if (income / N1 - mu > 0):\n",
        "    N = N1\n",
        "else:\n",
        "    N = N2\n",
        "\n",
        "# Calculate the percentage of the population that needs to be convinced\n",
        "population = 16e4\n",
        "percentage_population = N / population\n",
        "print(f\"You need to convince {round(percentage_population, 3)}% of the population.\")"
      ],
      "metadata": {
        "id": "2R00wiB1FRxP",
        "colab": {
          "base_uri": "https://localhost:8080/"
        },
        "outputId": "ce51e700-50e9-4cad-87a2-85ff98005e0c"
      },
      "execution_count": 11,
      "outputs": [
        {
          "output_type": "stream",
          "name": "stdout",
          "text": [
            "Results: 36404.859132533806, 35763.38885267042\n",
            "You need to convince 0.224% of the population.\n"
          ]
        }
      ]
    },
    {
      "cell_type": "markdown",
      "source": [
        "## Distribution of Ratings\n",
        "A histogram representing the distribution of supermarket customer ratings is displayed. We can observe that they're uniformly distributed."
      ],
      "metadata": {
        "id": "2w8EGA5VFSeo"
      }
    },
    {
      "cell_type": "code",
      "source": [
        "# Histogram of user ratings distribution\n",
        "plt.hist(df['Rating'], edgecolor=\"black\", color='g')\n",
        "plt.title('User Ratings')\n",
        "plt.show()"
      ],
      "metadata": {
        "id": "e47P8tunFbvn",
        "colab": {
          "base_uri": "https://localhost:8080/",
          "height": 452
        },
        "outputId": "b869a9f1-8c5e-460c-fca4-be15aedeb3f5"
      },
      "execution_count": 12,
      "outputs": [
        {
          "output_type": "display_data",
          "data": {
            "text/plain": [
              "<Figure size 640x480 with 1 Axes>"
            ],
            "image/png": "[encoded data removed]"
          },
          "metadata": {}
        }
      ]
    },
    {
      "cell_type": "markdown",
      "source": [
        "## Probability of the ratings\n",
        "\n",
        "We calculate the probability that the ratings are greater than or equal to 8.5 to give a message to the customer service department."
      ],
      "metadata": {
        "id": "_CdgOo-HJhin"
      }
    },
    {
      "cell_type": "code",
      "source": [
        "# Data for rating analysis\n",
        "n = 5  # Sample size\n",
        "mu = np.average(df['Rating'])  # Population mean\n",
        "var = np.var(df['Rating'])  # Population variance\n",
        "\n",
        "# Probability of obtaining an average rating >= 8.5 in a sample of n people\n",
        "Z = (8.5 - mu) / (np.sqrt(var / n))\n",
        "prob = 1 - norm.cdf(Z)\n",
        "print(f\"Probability of achieving an average rating >= 8.5: {prob:.2%}\")\n",
        "\n",
        "# Feedback based on the probability\n",
        "if prob < 0.10:\n",
        "    print(\"Urgent improvement of customer service strategies is needed!\")\n",
        "elif 0.10 < prob <= 0.40:\n",
        "    print(\"Priority should be given to reviewing the customer service department.\")\n",
        "elif 0.40 < prob <= 0.80:\n",
        "    print(\"Minor adjustments can be made to improve the ratings.\")\n",
        "else:\n",
        "    print(\"The customer service department is doing an excellent job!\")\n"
      ],
      "metadata": {
        "colab": {
          "base_uri": "https://localhost:8080/"
        },
        "id": "Rl-NiDIRDFrv",
        "outputId": "903e5ac1-b5a2-438f-cf46-c97477cef300"
      },
      "execution_count": 13,
      "outputs": [
        {
          "output_type": "stream",
          "name": "stdout",
          "text": [
            "Probability of achieving an average rating >= 8.5: 2.34%\n",
            "Urgent improvement of customer service strategies is needed!\n"
          ]
        }
      ]
    }
  ]
}